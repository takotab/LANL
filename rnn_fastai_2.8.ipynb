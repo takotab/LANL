{
 "cells": [
  {
   "cell_type": "code",
   "execution_count": 1,
   "metadata": {},
   "outputs": [],
   "source": [
    "import numpy as np\n",
    "import pandas as pd\n",
    "import os\n",
    "from tqdm import tqdm"
   ]
  },
  {
   "cell_type": "code",
   "execution_count": 2,
   "metadata": {},
   "outputs": [
    {
     "data": {
      "text/plain": [
       "4194.3032"
      ]
     },
     "execution_count": 2,
     "metadata": {},
     "output_type": "execute_result"
    }
   ],
   "source": [
    "629145480/150/1000"
   ]
  },
  {
   "cell_type": "code",
   "execution_count": 1,
   "metadata": {},
   "outputs": [
    {
     "ename": "NameError",
     "evalue": "name 'pd' is not defined",
     "output_type": "error",
     "traceback": [
      "\u001b[0;31m---------------------------------------------------------------------------\u001b[0m",
      "\u001b[0;31mNameError\u001b[0m                                 Traceback (most recent call last)",
      "\u001b[0;32m<ipython-input-1-d0d395df78c5>\u001b[0m in \u001b[0;36m<module>\u001b[0;34m\u001b[0m\n\u001b[1;32m      1\u001b[0m \u001b[0;31m# %%time\u001b[0m\u001b[0;34m\u001b[0m\u001b[0;34m\u001b[0m\u001b[0;34m\u001b[0m\u001b[0m\n\u001b[0;32m----> 2\u001b[0;31m \u001b[0mdf\u001b[0m \u001b[0;34m=\u001b[0m \u001b[0mpd\u001b[0m\u001b[0;34m.\u001b[0m\u001b[0mread_csv\u001b[0m\u001b[0;34m(\u001b[0m\u001b[0;34m'data/train.csv'\u001b[0m\u001b[0;34m,\u001b[0m \u001b[0mdtype\u001b[0m\u001b[0;34m=\u001b[0m\u001b[0;34m{\u001b[0m\u001b[0;34m'acoustic_data'\u001b[0m\u001b[0;34m:\u001b[0m \u001b[0mnp\u001b[0m\u001b[0;34m.\u001b[0m\u001b[0mint16\u001b[0m\u001b[0;34m,\u001b[0m \u001b[0;34m'time_to_failure'\u001b[0m\u001b[0;34m:\u001b[0m \u001b[0mnp\u001b[0m\u001b[0;34m.\u001b[0m\u001b[0mfloat32\u001b[0m\u001b[0;34m}\u001b[0m\u001b[0;34m,\u001b[0m\u001b[0mnrows\u001b[0m \u001b[0;34m=\u001b[0m \u001b[0;36m150\u001b[0m\u001b[0;34m*\u001b[0m\u001b[0;36m1000\u001b[0m\u001b[0;34m*\u001b[0m\u001b[0;36m1000\u001b[0m\u001b[0;34m)\u001b[0m\u001b[0;34m\u001b[0m\u001b[0;34m\u001b[0m\u001b[0m\n\u001b[0m",
      "\u001b[0;31mNameError\u001b[0m: name 'pd' is not defined"
     ]
    }
   ],
   "source": [
    "# %%time\n",
    "df = pd.read_csv('data/train.csv', dtype={'acoustic_data': np.int16, 'time_to_failure': np.float32})"
   ]
  },
  {
   "cell_type": "code",
   "execution_count": 111,
   "metadata": {},
   "outputs": [
    {
     "name": "stdout",
     "output_type": "stream",
     "text": [
      "(629145480, 2)\n"
     ]
    },
    {
     "data": {
      "text/html": [
       "<div>\n",
       "<style scoped>\n",
       "    .dataframe tbody tr th:only-of-type {\n",
       "        vertical-align: middle;\n",
       "    }\n",
       "\n",
       "    .dataframe tbody tr th {\n",
       "        vertical-align: top;\n",
       "    }\n",
       "\n",
       "    .dataframe thead th {\n",
       "        text-align: right;\n",
       "    }\n",
       "</style>\n",
       "<table border=\"1\" class=\"dataframe\">\n",
       "  <thead>\n",
       "    <tr style=\"text-align: right;\">\n",
       "      <th></th>\n",
       "      <th>acoustic_data</th>\n",
       "      <th>time_to_failure</th>\n",
       "    </tr>\n",
       "  </thead>\n",
       "  <tbody>\n",
       "    <tr>\n",
       "      <th>0</th>\n",
       "      <td>12</td>\n",
       "      <td>1.4691</td>\n",
       "    </tr>\n",
       "    <tr>\n",
       "      <th>1</th>\n",
       "      <td>6</td>\n",
       "      <td>1.4691</td>\n",
       "    </tr>\n",
       "    <tr>\n",
       "      <th>2</th>\n",
       "      <td>8</td>\n",
       "      <td>1.4691</td>\n",
       "    </tr>\n",
       "    <tr>\n",
       "      <th>3</th>\n",
       "      <td>5</td>\n",
       "      <td>1.4691</td>\n",
       "    </tr>\n",
       "    <tr>\n",
       "      <th>4</th>\n",
       "      <td>8</td>\n",
       "      <td>1.4691</td>\n",
       "    </tr>\n",
       "  </tbody>\n",
       "</table>\n",
       "</div>"
      ],
      "text/plain": [
       "   acoustic_data  time_to_failure\n",
       "0             12           1.4691\n",
       "1              6           1.4691\n",
       "2              8           1.4691\n",
       "3              5           1.4691\n",
       "4              8           1.4691"
      ]
     },
     "execution_count": 111,
     "metadata": {},
     "output_type": "execute_result"
    }
   ],
   "source": [
    "print(df.shape)\n",
    "df.head()"
   ]
  },
  {
   "cell_type": "code",
   "execution_count": 112,
   "metadata": {},
   "outputs": [],
   "source": [
    "import torch\n",
    "from torch.utils.data import Dataset, DataLoader\n",
    "# import cv2\n",
    "import torch.nn as nn\n",
    "import torch.nn.functional as F\n",
    "# from torchvision import transformsclass \n",
    "import torch.optim as optim"
   ]
  },
  {
   "cell_type": "code",
   "execution_count": 113,
   "metadata": {},
   "outputs": [
    {
     "name": "stdout",
     "output_type": "stream",
     "text": [
      "torch.Size([32, 150])\n"
     ]
    }
   ],
   "source": [
    "class RnnBasedLAN(nn.Module):\n",
    "    def __init__(self, D_in, H, layers=3, dropout=0.2, bidirectional=False):\n",
    "        super(RnnBasedLAN, self).__init__()\n",
    "        self.rnn = torch.nn.LSTM(\n",
    "            D_in,\n",
    "            H,\n",
    "            num_layers=layers,\n",
    "            batch_first=True,\n",
    "            dropout=dropout,\n",
    "#             bidirectional=False,\n",
    "        )\n",
    "        self.norm = nn.LayerNorm(H)\n",
    "        self.conv = nn.Conv2d(H, 1, 1)\n",
    "        \n",
    "    def forward(self, x):\n",
    "        \"\"\"x.shape = (batch_size, seq_len, features)\"\"\"\n",
    "        x, (h_n, c_n) = self.rnn(x)\n",
    "        x = self.norm(x)\n",
    "        x = x.transpose(1,2)\n",
    "        return self.conv(x[:,:,:,None]).squeeze()\n",
    "    \n",
    "def test_rnn():\n",
    "    x = torch.rand(32,150,12)\n",
    "    mdl = RnnBasedLAN(12,16)\n",
    "    print(mdl(x).shape)\n",
    "test_rnn()"
   ]
  },
  {
   "cell_type": "code",
   "execution_count": 114,
   "metadata": {},
   "outputs": [
    {
     "name": "stdout",
     "output_type": "stream",
     "text": [
      "Our RNN is based on 24 features\n"
     ]
    }
   ],
   "source": [
    "def extract_features(z):\n",
    "#     print(z.shape)\n",
    "    array = [z.mean(axis=1), \n",
    "                  z.min(axis=1),\n",
    "                  z.max(axis=1),\n",
    "                  z.std(axis=1),\n",
    "#                  z.median(axis=1),\n",
    "                    z.sum(axis=1),\n",
    "                 [len(z[i,np.abs(z[i,:]) > 500]) for i in range(z.shape[0])],\n",
    "                 z.max(axis=1) - np.abs(z.min(axis=1)),\n",
    "                  np.quantile(z, 0.05,axis=1),\n",
    "            ]\n",
    "#     print([np.array(i).shape for i in array])\n",
    "    return np.c_[array].T.astype(np.float32)\n",
    "\n",
    "extract_features(np.random.rand(150,100))\n",
    "# For a given ending position \"last_index\", we split the last 150'000 values \n",
    "# of \"x\" into 150 pieces of length 1000 each. So n_steps * step_length should equal 150'000.\n",
    "# From each piece, a set features are extracted. This results in a feature matrix \n",
    "# of dimension (150 time steps x features).  \n",
    "def create_X(x, last_index=None, n_steps=150, step_length=1000):\n",
    "    if last_index == None:\n",
    "        last_index=len(x)\n",
    "       \n",
    "    assert last_index - n_steps * step_length >= 0\n",
    "\n",
    "    # Reshaping and approximate standardization with mean 5 and std 3.\n",
    "    temp = (x[(last_index - n_steps * step_length):last_index].reshape(n_steps, -1) - 5 ) / 3\n",
    "#     print(temp.shape,extract_features(temp).shape)\n",
    "    # Extracts features of sequences of full length 1000, of the last 100 values and finally also \n",
    "    # of the last 10 observations. \n",
    "    return np.c_[extract_features(temp),\n",
    "                 extract_features(temp[:, -step_length // 10:]),\n",
    "                 extract_features(temp[:, -step_length // 100:])].astype(np.float32)\n",
    "\n",
    "# Query \"create_X\" to figure out the number of features\n",
    "n_features = create_X(df.to_numpy(), n_steps=10).shape[1]\n",
    "print(\"Our RNN is based on %i features\"% n_features)"
   ]
  },
  {
   "cell_type": "code",
   "execution_count": 135,
   "metadata": {},
   "outputs": [
    {
     "name": "stderr",
     "output_type": "stream",
     "text": [
      "\n",
      "  0%|          | 0/4193 [00:00<?, ?it/s]\u001b[A\n",
      "  0%|          | 16/4193 [00:00<00:26, 156.05it/s]\u001b[A\n",
      "  1%|          | 33/4193 [00:00<00:26, 159.89it/s]\u001b[A\n",
      "  1%|          | 49/4193 [00:00<00:25, 159.91it/s]\u001b[A\n",
      "  2%|▏         | 66/4193 [00:00<00:25, 162.18it/s]\u001b[A\n",
      "  2%|▏         | 83/4193 [00:00<00:25, 163.63it/s]\u001b[A\n",
      "  2%|▏         | 100/4193 [00:00<00:24, 164.78it/s]\u001b[A\n",
      "  3%|▎         | 117/4193 [00:00<00:24, 165.67it/s]\u001b[A\n",
      "  3%|▎         | 133/4193 [00:00<00:24, 163.34it/s]\u001b[A\n",
      "  4%|▎         | 150/4193 [00:00<00:24, 163.73it/s]\u001b[A\n",
      "  4%|▍         | 167/4193 [00:01<00:24, 163.78it/s]\u001b[A\n",
      "  4%|▍         | 184/4193 [00:01<00:24, 163.48it/s]\u001b[A\n",
      "  5%|▍         | 201/4193 [00:01<00:24, 164.55it/s]\u001b[A\n",
      "  5%|▌         | 218/4193 [00:01<00:24, 165.49it/s]\u001b[A\n",
      "  6%|▌         | 236/4193 [00:01<00:23, 168.16it/s]\u001b[A\n",
      "  6%|▌         | 253/4193 [00:01<00:23, 168.30it/s]\u001b[A\n",
      "  6%|▋         | 270/4193 [00:01<00:23, 164.97it/s]\u001b[A\n",
      "  7%|▋         | 287/4193 [00:01<00:23, 164.14it/s]\u001b[A\n",
      "  7%|▋         | 304/4193 [00:01<00:23, 162.47it/s]\u001b[A\n",
      "  8%|▊         | 321/4193 [00:01<00:23, 162.53it/s]\u001b[A\n",
      "  8%|▊         | 338/4193 [00:02<00:23, 161.44it/s]\u001b[A\n",
      "  8%|▊         | 355/4193 [00:02<00:23, 161.71it/s]\u001b[A\n",
      "  9%|▉         | 372/4193 [00:02<00:23, 159.80it/s]\u001b[A\n",
      "  9%|▉         | 388/4193 [00:02<00:24, 157.48it/s]\u001b[A\n",
      " 10%|▉         | 405/4193 [00:02<00:23, 160.06it/s]\u001b[A\n",
      " 10%|█         | 422/4193 [00:02<00:23, 161.67it/s]\u001b[A\n",
      " 10%|█         | 439/4193 [00:02<00:23, 162.79it/s]\u001b[A\n",
      " 11%|█         | 456/4193 [00:02<00:22, 164.05it/s]\u001b[A\n",
      " 11%|█▏        | 473/4193 [00:02<00:22, 165.31it/s]\u001b[A\n",
      " 12%|█▏        | 490/4193 [00:02<00:22, 162.34it/s]\u001b[A\n",
      " 12%|█▏        | 507/4193 [00:03<00:22, 163.40it/s]\u001b[A\n",
      " 12%|█▏        | 524/4193 [00:03<00:22, 164.17it/s]\u001b[A\n",
      " 13%|█▎        | 541/4193 [00:03<00:22, 162.15it/s]\u001b[A\n",
      " 13%|█▎        | 558/4193 [00:03<00:22, 164.22it/s]\u001b[A\n",
      " 14%|█▎        | 576/4193 [00:03<00:21, 166.21it/s]\u001b[A\n",
      " 14%|█▍        | 594/4193 [00:03<00:21, 167.86it/s]\u001b[A\n",
      " 15%|█▍        | 611/4193 [00:03<00:21, 167.32it/s]\u001b[A\n",
      " 15%|█▍        | 628/4193 [00:03<00:21, 166.64it/s]\u001b[A\n",
      " 15%|█▌        | 645/4193 [00:03<00:21, 167.08it/s]\u001b[A\n",
      " 16%|█▌        | 662/4193 [00:04<00:21, 162.24it/s]\u001b[A\n",
      " 16%|█▌        | 679/4193 [00:04<00:21, 163.32it/s]\u001b[A\n",
      " 17%|█▋        | 696/4193 [00:04<00:21, 163.36it/s]\u001b[A\n",
      " 17%|█▋        | 714/4193 [00:04<00:20, 165.68it/s]\u001b[A\n",
      " 17%|█▋        | 731/4193 [00:04<00:20, 165.09it/s]\u001b[A\n",
      " 18%|█▊        | 748/4193 [00:04<00:20, 164.89it/s]\u001b[A\n",
      " 18%|█▊        | 765/4193 [00:04<00:20, 165.27it/s]\u001b[A\n",
      " 19%|█▊        | 782/4193 [00:04<00:20, 165.35it/s]\u001b[A\n",
      " 19%|█▉        | 800/4193 [00:04<00:20, 167.65it/s]\u001b[A\n",
      " 19%|█▉        | 817/4193 [00:04<00:20, 167.59it/s]\u001b[A\n",
      " 20%|█▉        | 834/4193 [00:05<00:20, 167.33it/s]\u001b[A\n",
      " 20%|██        | 851/4193 [00:05<00:20, 164.59it/s]\u001b[A\n",
      " 21%|██        | 868/4193 [00:05<00:20, 164.93it/s]\u001b[A\n",
      " 21%|██        | 885/4193 [00:05<00:19, 166.17it/s]\u001b[A\n",
      " 22%|██▏       | 903/4193 [00:05<00:19, 167.69it/s]\u001b[A\n",
      " 22%|██▏       | 920/4193 [00:05<00:19, 164.34it/s]\u001b[A\n",
      " 22%|██▏       | 937/4193 [00:05<00:20, 159.92it/s]\u001b[A\n",
      " 23%|██▎       | 954/4193 [00:05<00:20, 157.66it/s]\u001b[A\n",
      " 23%|██▎       | 970/4193 [00:05<00:20, 154.95it/s]\u001b[A\n",
      " 24%|██▎       | 986/4193 [00:06<00:20, 154.50it/s]\u001b[A\n",
      " 24%|██▍       | 1003/4193 [00:06<00:20, 157.31it/s]\u001b[A\n",
      " 24%|██▍       | 1019/4193 [00:06<00:20, 155.86it/s]\u001b[A\n",
      " 25%|██▍       | 1036/4193 [00:06<00:20, 157.77it/s]\u001b[A\n",
      " 25%|██▌       | 1053/4193 [00:06<00:19, 159.78it/s]\u001b[A\n",
      " 26%|██▌       | 1070/4193 [00:06<00:19, 160.34it/s]\u001b[A\n",
      " 26%|██▌       | 1087/4193 [00:06<00:19, 161.23it/s]\u001b[A\n",
      " 26%|██▋       | 1104/4193 [00:06<00:18, 163.41it/s]\u001b[A\n",
      " 27%|██▋       | 1121/4193 [00:06<00:18, 164.31it/s]\u001b[A\n",
      " 27%|██▋       | 1138/4193 [00:06<00:18, 164.90it/s]\u001b[A\n",
      " 28%|██▊       | 1155/4193 [00:07<00:18, 165.78it/s]\u001b[A\n",
      " 28%|██▊       | 1172/4193 [00:07<00:18, 166.54it/s]\u001b[A\n",
      " 28%|██▊       | 1189/4193 [00:07<00:18, 163.30it/s]\u001b[A\n",
      " 29%|██▉       | 1206/4193 [00:07<00:18, 162.49it/s]\u001b[A\n",
      " 29%|██▉       | 1224/4193 [00:07<00:17, 164.95it/s]\u001b[A\n",
      " 30%|██▉       | 1241/4193 [00:07<00:17, 166.33it/s]\u001b[A\n",
      " 30%|███       | 1258/4193 [00:07<00:17, 166.82it/s]\u001b[A\n",
      " 30%|███       | 1275/4193 [00:07<00:17, 166.23it/s]\u001b[A\n",
      " 97%|█████████▋| 4068/4193 [00:40<00:00, 153.91it/s]\n",
      " 31%|███       | 1309/4193 [00:07<00:17, 166.52it/s]\u001b[A\n",
      " 32%|███▏      | 1326/4193 [00:08<00:17, 166.08it/s]\u001b[A\n",
      " 32%|███▏      | 1343/4193 [00:08<00:17, 166.51it/s]\u001b[A\n",
      " 32%|███▏      | 1360/4193 [00:08<00:17, 165.54it/s]\u001b[A\n",
      " 33%|███▎      | 1377/4193 [00:08<00:17, 161.75it/s]\u001b[A\n",
      " 33%|███▎      | 1394/4193 [00:08<00:17, 163.63it/s]\u001b[A\n",
      " 34%|███▎      | 1411/4193 [00:08<00:16, 164.51it/s]\u001b[A\n",
      " 34%|███▍      | 1428/4193 [00:08<00:16, 164.72it/s]\u001b[A\n",
      " 34%|███▍      | 1445/4193 [00:08<00:16, 164.95it/s]\u001b[A\n",
      " 35%|███▍      | 1462/4193 [00:08<00:16, 162.13it/s]\u001b[A\n",
      " 35%|███▌      | 1479/4193 [00:09<00:16, 162.29it/s]\u001b[A\n",
      " 36%|███▌      | 1496/4193 [00:09<00:16, 163.71it/s]\u001b[A\n",
      " 36%|███▌      | 1513/4193 [00:09<00:16, 163.95it/s]\u001b[A\n",
      " 36%|███▋      | 1530/4193 [00:09<00:16, 163.92it/s]\u001b[A\n",
      " 37%|███▋      | 1547/4193 [00:09<00:16, 162.78it/s]\u001b[A\n",
      " 37%|███▋      | 1564/4193 [00:09<00:16, 163.18it/s]\u001b[A\n",
      " 38%|███▊      | 1581/4193 [00:09<00:15, 163.74it/s]\u001b[A\n",
      " 38%|███▊      | 1598/4193 [00:09<00:15, 164.74it/s]\u001b[A\n",
      " 39%|███▊      | 1615/4193 [00:09<00:15, 163.48it/s]\u001b[A\n",
      " 39%|███▉      | 1632/4193 [00:09<00:15, 163.73it/s]\u001b[A\n",
      " 39%|███▉      | 1649/4193 [00:10<00:15, 163.36it/s]\u001b[A\n",
      " 40%|███▉      | 1666/4193 [00:10<00:15, 164.28it/s]\u001b[A\n",
      " 40%|████      | 1683/4193 [00:10<00:15, 163.80it/s]\u001b[A\n",
      " 41%|████      | 1700/4193 [00:10<00:15, 164.36it/s]\u001b[A\n",
      " 41%|████      | 1717/4193 [00:10<00:15, 161.90it/s]\u001b[A\n",
      " 41%|████▏     | 1734/4193 [00:10<00:15, 161.33it/s]\u001b[A\n",
      " 42%|████▏     | 1751/4193 [00:10<00:15, 160.44it/s]\u001b[A\n",
      " 42%|████▏     | 1768/4193 [00:10<00:15, 158.59it/s]\u001b[A\n",
      " 43%|████▎     | 1785/4193 [00:10<00:14, 161.03it/s]\u001b[A\n",
      " 43%|████▎     | 1802/4193 [00:11<00:14, 162.10it/s]\u001b[A\n",
      " 43%|████▎     | 1819/4193 [00:11<00:14, 163.55it/s]\u001b[A\n",
      " 44%|████▍     | 1836/4193 [00:11<00:14, 164.75it/s]\u001b[A\n",
      " 44%|████▍     | 1853/4193 [00:11<00:14, 165.25it/s]\u001b[A\n",
      " 45%|████▍     | 1870/4193 [00:11<00:13, 165.95it/s]\u001b[A\n",
      " 45%|████▌     | 1887/4193 [00:11<00:13, 166.21it/s]\u001b[A\n",
      " 45%|████▌     | 1904/4193 [00:11<00:13, 163.96it/s]\u001b[A\n",
      " 46%|████▌     | 1921/4193 [00:11<00:13, 163.95it/s]\u001b[A\n",
      " 46%|████▌     | 1938/4193 [00:11<00:13, 163.52it/s]\u001b[A\n",
      " 47%|████▋     | 1955/4193 [00:11<00:13, 164.20it/s]\u001b[A\n",
      " 47%|████▋     | 1972/4193 [00:12<00:13, 164.56it/s]\u001b[A\n",
      " 47%|████▋     | 1989/4193 [00:12<00:13, 165.69it/s]\u001b[A\n",
      " 48%|████▊     | 2006/4193 [00:12<00:13, 164.40it/s]\u001b[A\n",
      " 48%|████▊     | 2023/4193 [00:12<00:13, 165.81it/s]\u001b[A\n",
      " 49%|████▊     | 2041/4193 [00:12<00:12, 167.49it/s]\u001b[A\n",
      " 49%|████▉     | 2058/4193 [00:12<00:12, 167.79it/s]\u001b[A\n",
      " 49%|████▉     | 2075/4193 [00:12<00:12, 165.17it/s]\u001b[A\n",
      " 50%|████▉     | 2092/4193 [00:12<00:12, 164.23it/s]\u001b[A\n",
      " 50%|█████     | 2109/4193 [00:12<00:12, 165.19it/s]\u001b[A\n",
      " 51%|█████     | 2126/4193 [00:12<00:12, 165.89it/s]\u001b[A\n",
      " 51%|█████     | 2143/4193 [00:13<00:12, 166.00it/s]\u001b[A\n",
      " 52%|█████▏    | 2160/4193 [00:13<00:12, 166.89it/s]\u001b[A\n",
      " 52%|█████▏    | 2177/4193 [00:13<00:12, 166.23it/s]\u001b[A\n",
      " 52%|█████▏    | 2194/4193 [00:13<00:11, 167.25it/s]\u001b[A\n",
      " 53%|█████▎    | 2212/4193 [00:13<00:11, 168.29it/s]\u001b[A\n",
      " 53%|█████▎    | 2229/4193 [00:13<00:11, 167.87it/s]\u001b[A\n",
      " 54%|█████▎    | 2246/4193 [00:13<00:11, 167.73it/s]\u001b[A\n",
      " 54%|█████▍    | 2263/4193 [00:13<00:11, 164.17it/s]\u001b[A\n",
      " 54%|█████▍    | 2280/4193 [00:13<00:12, 155.69it/s]\u001b[A\n",
      " 55%|█████▍    | 2297/4193 [00:14<00:11, 159.65it/s]\u001b[A\n",
      " 55%|█████▌    | 2315/4193 [00:14<00:11, 162.97it/s]\u001b[A\n",
      " 56%|█████▌    | 2333/4193 [00:14<00:11, 165.50it/s]\u001b[A\n",
      " 56%|█████▌    | 2350/4193 [00:14<00:11, 166.40it/s]\u001b[A\n",
      " 56%|█████▋    | 2368/4193 [00:14<00:10, 168.63it/s]\u001b[A\n",
      " 57%|█████▋    | 2386/4193 [00:14<00:10, 170.09it/s]\u001b[A\n",
      " 57%|█████▋    | 2404/4193 [00:14<00:10, 170.08it/s]\u001b[A\n",
      " 58%|█████▊    | 2422/4193 [00:14<00:10, 171.03it/s]\u001b[A\n",
      " 58%|█████▊    | 2440/4193 [00:14<00:10, 168.29it/s]\u001b[A\n",
      " 59%|█████▊    | 2458/4193 [00:14<00:10, 169.58it/s]\u001b[A\n",
      " 59%|█████▉    | 2475/4193 [00:15<00:10, 169.66it/s]\u001b[A\n",
      " 59%|█████▉    | 2493/4193 [00:15<00:09, 171.08it/s]\u001b[A\n",
      " 60%|█████▉    | 2511/4193 [00:15<00:09, 169.49it/s]\u001b[A\n",
      " 60%|██████    | 2528/4193 [00:15<00:09, 169.35it/s]\u001b[A\n",
      " 61%|██████    | 2546/4193 [00:15<00:09, 171.03it/s]\u001b[A\n",
      " 61%|██████    | 2564/4193 [00:15<00:09, 170.93it/s]\u001b[A\n",
      " 62%|██████▏   | 2582/4193 [00:15<00:09, 170.29it/s]\u001b[A\n",
      " 62%|██████▏   | 2600/4193 [00:15<00:09, 169.88it/s]\u001b[A\n",
      " 62%|██████▏   | 2617/4193 [00:15<00:09, 166.32it/s]\u001b[A\n",
      " 63%|██████▎   | 2634/4193 [00:16<00:09, 167.26it/s]\u001b[A\n",
      " 63%|██████▎   | 2652/4193 [00:16<00:09, 168.78it/s]\u001b[A\n",
      " 64%|██████▎   | 2670/4193 [00:16<00:08, 169.48it/s]\u001b[A\n",
      " 64%|██████▍   | 2687/4193 [00:16<00:08, 168.66it/s]\u001b[A\n",
      " 65%|██████▍   | 2705/4193 [00:16<00:08, 169.58it/s]\u001b[A\n",
      " 65%|██████▍   | 2723/4193 [00:16<00:08, 170.15it/s]\u001b[A\n",
      " 65%|██████▌   | 2741/4193 [00:16<00:08, 169.15it/s]\u001b[A\n",
      " 66%|██████▌   | 2758/4193 [00:16<00:08, 168.55it/s]\u001b[A\n",
      " 66%|██████▌   | 2775/4193 [00:16<00:08, 167.66it/s]\u001b[A\n",
      " 67%|██████▋   | 2792/4193 [00:16<00:08, 167.36it/s]\u001b[A\n",
      " 67%|██████▋   | 2809/4193 [00:17<00:08, 162.94it/s]\u001b[A\n",
      " 67%|██████▋   | 2826/4193 [00:17<00:08, 163.27it/s]\u001b[A\n",
      " 68%|██████▊   | 2843/4193 [00:17<00:08, 161.13it/s]\u001b[A\n",
      " 68%|██████▊   | 2860/4193 [00:17<00:08, 154.07it/s]\u001b[A\n",
      " 69%|██████▊   | 2876/4193 [00:17<00:08, 153.74it/s]\u001b[A\n",
      " 69%|██████▉   | 2893/4193 [00:17<00:08, 156.27it/s]\u001b[A\n",
      " 69%|██████▉   | 2909/4193 [00:17<00:08, 156.04it/s]\u001b[A\n",
      " 70%|██████▉   | 2925/4193 [00:17<00:08, 154.74it/s]\u001b[A\n",
      " 70%|███████   | 2941/4193 [00:17<00:08, 153.48it/s]\u001b[A\n",
      " 71%|███████   | 2957/4193 [00:18<00:08, 153.64it/s]\u001b[A\n",
      " 71%|███████   | 2973/4193 [00:18<00:08, 150.74it/s]\u001b[A\n",
      " 71%|███████▏  | 2989/4193 [00:18<00:07, 151.67it/s]\u001b[A\n",
      " 72%|███████▏  | 3005/4193 [00:18<00:07, 153.71it/s]\u001b[A\n",
      " 72%|███████▏  | 3021/4193 [00:18<00:07, 154.75it/s]\u001b[A\n",
      " 72%|███████▏  | 3037/4193 [00:18<00:07, 155.48it/s]\u001b[A\n",
      " 73%|███████▎  | 3053/4193 [00:18<00:07, 152.57it/s]\u001b[A\n",
      " 73%|███████▎  | 3069/4193 [00:18<00:07, 152.32it/s]\u001b[A\n",
      " 74%|███████▎  | 3085/4193 [00:18<00:07, 151.69it/s]\u001b[A\n",
      " 74%|███████▍  | 3101/4193 [00:18<00:07, 149.92it/s]\u001b[A\n",
      " 74%|███████▍  | 3117/4193 [00:19<00:07, 145.99it/s]\u001b[A\n",
      " 75%|███████▍  | 3132/4193 [00:19<00:07, 146.88it/s]\u001b[A\n",
      " 75%|███████▌  | 3148/4193 [00:19<00:07, 147.98it/s]\u001b[A\n",
      " 75%|███████▌  | 3165/4193 [00:19<00:06, 151.81it/s]\u001b[A\n",
      " 76%|███████▌  | 3182/4193 [00:19<00:06, 154.17it/s]\u001b[A\n",
      " 76%|███████▋  | 3198/4193 [00:19<00:06, 154.59it/s]\u001b[A\n",
      " 77%|███████▋  | 3214/4193 [00:19<00:06, 156.04it/s]\u001b[A\n",
      " 77%|███████▋  | 3230/4193 [00:19<00:06, 157.12it/s]\u001b[A\n",
      " 77%|███████▋  | 3247/4193 [00:19<00:05, 157.83it/s]\u001b[A\n",
      " 78%|███████▊  | 3264/4193 [00:20<00:05, 158.92it/s]\u001b[A\n",
      " 78%|███████▊  | 3281/4193 [00:20<00:05, 160.50it/s]\u001b[A\n",
      " 79%|███████▊  | 3298/4193 [00:20<00:05, 159.91it/s]\u001b[A\n",
      " 79%|███████▉  | 3314/4193 [00:20<00:05, 157.01it/s]\u001b[A\n",
      " 79%|███████▉  | 3330/4193 [00:20<00:05, 154.36it/s]\u001b[A\n",
      " 80%|███████▉  | 3346/4193 [00:20<00:05, 151.19it/s]\u001b[A\n",
      " 80%|████████  | 3363/4193 [00:20<00:05, 154.20it/s]\u001b[A\n",
      " 81%|████████  | 3379/4193 [00:20<00:05, 154.51it/s]\u001b[A\n",
      " 81%|████████  | 3395/4193 [00:20<00:05, 155.70it/s]\u001b[A\n",
      " 81%|████████▏ | 3412/4193 [00:20<00:04, 157.76it/s]\u001b[A\n",
      " 82%|████████▏ | 3429/4193 [00:21<00:04, 159.33it/s]\u001b[A\n",
      " 82%|████████▏ | 3445/4193 [00:21<00:04, 159.52it/s]\u001b[A\n",
      " 83%|████████▎ | 3461/4193 [00:21<00:04, 156.15it/s]\u001b[A\n",
      " 83%|████████▎ | 3477/4193 [00:21<00:04, 156.65it/s]\u001b[A\n",
      " 83%|████████▎ | 3494/4193 [00:21<00:04, 158.06it/s]\u001b[A\n",
      " 84%|████████▎ | 3510/4193 [00:21<00:04, 155.06it/s]\u001b[A\n",
      " 84%|████████▍ | 3527/4193 [00:21<00:04, 159.02it/s]\u001b[A\n",
      " 85%|████████▍ | 3545/4193 [00:21<00:03, 162.32it/s]\u001b[A\n",
      " 85%|████████▍ | 3562/4193 [00:21<00:04, 156.99it/s]\u001b[A\n",
      " 85%|████████▌ | 3578/4193 [00:22<00:03, 157.55it/s]\u001b[A\n",
      " 86%|████████▌ | 3594/4193 [00:22<00:03, 158.22it/s]\u001b[A\n",
      " 86%|████████▌ | 3611/4193 [00:22<00:03, 159.14it/s]\u001b[A\n",
      " 87%|████████▋ | 3627/4193 [00:22<00:03, 158.91it/s]\u001b[A\n",
      " 87%|████████▋ | 3643/4193 [00:22<00:03, 158.75it/s]\u001b[A\n",
      " 87%|████████▋ | 3660/4193 [00:22<00:03, 161.65it/s]\u001b[A\n",
      " 88%|████████▊ | 3677/4193 [00:22<00:03, 162.16it/s]\u001b[A\n",
      " 88%|████████▊ | 3694/4193 [00:22<00:03, 162.77it/s]\u001b[A\n",
      " 89%|████████▊ | 3711/4193 [00:22<00:02, 163.69it/s]\u001b[A\n",
      " 89%|████████▉ | 3728/4193 [00:22<00:02, 164.56it/s]\u001b[A\n",
      " 89%|████████▉ | 3745/4193 [00:23<00:02, 165.68it/s]\u001b[A\n",
      " 90%|████████▉ | 3762/4193 [00:23<00:02, 166.78it/s]\u001b[A\n",
      " 90%|█████████ | 3779/4193 [00:23<00:02, 167.71it/s]\u001b[A\n",
      " 91%|█████████ | 3797/4193 [00:23<00:02, 170.09it/s]\u001b[A\n",
      " 91%|█████████ | 3815/4193 [00:23<00:02, 168.83it/s]\u001b[A\n",
      " 91%|█████████▏| 3832/4193 [00:23<00:02, 166.00it/s]\u001b[A\n",
      " 92%|█████████▏| 3849/4193 [00:23<00:02, 162.12it/s]\u001b[A\n",
      " 92%|█████████▏| 3866/4193 [00:23<00:02, 161.93it/s]\u001b[A\n",
      " 93%|█████████▎| 3883/4193 [00:23<00:01, 158.94it/s]\u001b[A\n",
      " 93%|█████████▎| 3899/4193 [00:23<00:01, 156.84it/s]\u001b[A\n",
      " 93%|█████████▎| 3915/4193 [00:24<00:01, 156.67it/s]\u001b[A\n",
      " 94%|█████████▍| 3931/4193 [00:24<00:01, 155.54it/s]\u001b[A\n",
      " 94%|█████████▍| 3947/4193 [00:24<00:01, 153.59it/s]\u001b[A\n",
      " 95%|█████████▍| 3963/4193 [00:24<00:01, 155.03it/s]\u001b[A\n",
      " 95%|█████████▍| 3979/4193 [00:24<00:01, 155.33it/s]\u001b[A\n",
      " 95%|█████████▌| 3995/4193 [00:24<00:01, 154.37it/s]\u001b[A\n",
      " 96%|█████████▌| 4012/4193 [00:24<00:01, 157.20it/s]\u001b[A\n",
      " 96%|█████████▌| 4030/4193 [00:24<00:01, 161.27it/s]\u001b[A\n",
      " 97%|█████████▋| 4047/4193 [00:24<00:00, 163.33it/s]\u001b[A\n",
      " 97%|█████████▋| 4065/4193 [00:25<00:00, 166.84it/s]\u001b[A\n",
      " 97%|█████████▋| 4083/4193 [00:25<00:00, 168.33it/s]\u001b[A\n",
      " 98%|█████████▊| 4100/4193 [00:25<00:00, 166.60it/s]\u001b[A\n",
      " 98%|█████████▊| 4117/4193 [00:25<00:00, 161.93it/s]\u001b[A\n",
      " 99%|█████████▊| 4134/4193 [00:25<00:00, 160.16it/s]\u001b[A\n",
      " 99%|█████████▉| 4151/4193 [00:25<00:00, 159.14it/s]\u001b[A\n",
      " 99%|█████████▉| 4167/4193 [00:25<00:00, 155.26it/s]\u001b[A\n",
      "100%|█████████▉| 4184/4193 [00:25<00:00, 157.31it/s]\u001b[A\n",
      "100%|██████████| 4193/4193 [00:25<00:00, 162.35it/s]\u001b[A"
     ]
    },
    {
     "name": "stdout",
     "output_type": "stream",
     "text": [
      "[(150, 24), (150,)]\n"
     ]
    }
   ],
   "source": [
    "\n",
    "class LAN_Dataset(Dataset):\n",
    "    def __init__(\n",
    "        self,\n",
    "        df,\n",
    "        seq_len=150,\n",
    "        rand=False\n",
    "#         overlap\n",
    "    ):\n",
    "        self.x =  df.loc[:,'acoustic_data'].to_numpy()\n",
    "        self.y = df.loc[:,'time_to_failure'].to_numpy()\n",
    "        self.seq_len = seq_len\n",
    "        self.rand = rand\n",
    "        \n",
    "    def __len__(self):\n",
    "        return int(self.x.shape[0]/1000/self.seq_len)-1\n",
    "        \n",
    "\n",
    "    def __getitem__(self, idx):\n",
    "        idx +=1\n",
    "        idx *= 150*1000\n",
    "        if self.rand:\n",
    "            idx += int(np.random.randn()*999)\n",
    "#         print(idx)\n",
    "        sample = {\n",
    "            \"x\": create_X(self.x, last_index=idx, n_steps=self.seq_len, step_length=1000),\n",
    "            \"y\": self.y[np.arange(idx - self.seq_len*1000,idx,1000)],\n",
    "        }\n",
    "        \n",
    "\n",
    "        return sample['x'],sample['y'].astype(np.float32)\n",
    "    \n",
    "ds = LAN_Dataset(df)\n",
    "for i in tqdm(range(len(ds))):\n",
    "    dct = [o.shape for o in ds[i]]\n",
    "#     break\n",
    "print(dct)\n"
   ]
  },
  {
   "cell_type": "code",
   "execution_count": 136,
   "metadata": {},
   "outputs": [
    {
     "name": "stdout",
     "output_type": "stream",
     "text": [
      "9450000 9600000\n"
     ]
    },
    {
     "data": {
      "text/plain": [
       "(150,)"
      ]
     },
     "execution_count": 136,
     "metadata": {},
     "output_type": "execute_result"
    }
   ],
   "source": [
    "idx = 150*1000*64\n",
    "print(idx- 150*1000,idx)\n",
    "np.arange(idx - 150*1000,idx,1000).shape"
   ]
  },
  {
   "cell_type": "code",
   "execution_count": 138,
   "metadata": {},
   "outputs": [
    {
     "name": "stdout",
     "output_type": "stream",
     "text": [
      "[1.469098 1.469097 1.469096 1.4681   ... 1.431895 1.430799 1.430798 1.430797]\n"
     ]
    },
    {
     "data": {
      "image/png": "[encoded data removed]",
      "text/plain": [
       "<Figure size 432x288 with 1 Axes>"
      ]
     },
     "metadata": {
      "needs_background": "light"
     },
     "output_type": "display_data"
    },
    {
     "name": "stdout",
     "output_type": "stream",
     "text": [
      "11.455598\n"
     ]
    },
    {
     "data": {
      "text/plain": [
       "[<matplotlib.lines.Line2D at 0x7f796636a6a0>]"
      ]
     },
     "execution_count": 138,
     "metadata": {},
     "output_type": "execute_result"
    },
    {
     "data": {
      "image/png": "[encoded data removed]",
      "text/plain": [
       "<Figure size 432x288 with 1 Axes>"
      ]
     },
     "metadata": {
      "needs_background": "light"
     },
     "output_type": "display_data"
    }
   ],
   "source": [
    "import matplotlib.pyplot as plt\n",
    "def plot_sample(sample):    \n",
    "    plt.plot(sample[0])\n",
    "    print(sample[1])\n",
    "    plt.show()\n",
    "plot_sample(ds[0])\n",
    "second_earthquake = 50085877\n",
    "valid_ds = LAN_Dataset(df.iloc[second_earthquake-150*1000*295:second_earthquake,:])\n",
    "result = []\n",
    "for i in range(len(valid_ds)):\n",
    "    result.append(valid_ds[i][1][-1])\n",
    "print(result[0])\n",
    "plt.figure()\n",
    "plt.plot(result)"
   ]
  },
  {
   "cell_type": "code",
   "execution_count": 139,
   "metadata": {},
   "outputs": [],
   "source": [
    "# from ignite.engine import Events, create_supervised_trainer, create_supervised_evaluator\n",
    "# between train and validation\n",
    "second_earthquake = 50085877\n",
    "\n",
    "train_dl = DataLoader(LAN_Dataset(df.iloc[:-150*1000*65,:],rand = True), batch_size= 64, num_workers=4)\n",
    "valid_dl = DataLoader(LAN_Dataset(df.iloc[second_earthquake-150*1000*295:second_earthquake,:]), batch_size= 32, num_workers=2)\n",
    "\n",
    "# optimizer = torch.optim.Adam(model.parameters())\n",
    "loss = torch.nn.MSELoss()\n"
   ]
  },
  {
   "cell_type": "code",
   "execution_count": 140,
   "metadata": {},
   "outputs": [],
   "source": [
    "def last_step_acc(preds, targs):\n",
    "    return torch.mean(torch.abs( preds[:,-1]-targs[:,-1]))\n"
   ]
  },
  {
   "cell_type": "code",
   "execution_count": 141,
   "metadata": {},
   "outputs": [],
   "source": [
    "from fastai.basic_data import *\n",
    "from fastai.basic_train import Learner\n",
    "from fastai.train import fit_one_cycle"
   ]
  },
  {
   "cell_type": "code",
   "execution_count": 142,
   "metadata": {},
   "outputs": [],
   "source": [
    "data_bunch = DataBunch(train_dl, valid_dl)"
   ]
  },
  {
   "cell_type": "code",
   "execution_count": 143,
   "metadata": {},
   "outputs": [],
   "source": [
    "learn = Learner(data_bunch, RnnBasedLAN(24,32), loss_func=loss, metrics = [last_step_acc])"
   ]
  },
  {
   "cell_type": "code",
   "execution_count": 144,
   "metadata": {},
   "outputs": [
    {
     "data": {
      "text/html": [
       "Total time: 01:25 <p><table border=\"1\" class=\"dataframe\">\n",
       "  <thead>\n",
       "    <tr style=\"text-align: left;\">\n",
       "      <th>epoch</th>\n",
       "      <th>train_loss</th>\n",
       "      <th>valid_loss</th>\n",
       "      <th>last_step_acc</th>\n",
       "      <th>time</th>\n",
       "    </tr>\n",
       "  </thead>\n",
       "  <tbody>\n",
       "    <tr>\n",
       "      <td>0</td>\n",
       "      <td>19.247458</td>\n",
       "      <td>12.203057</td>\n",
       "      <td>2.968903</td>\n",
       "      <td>00:08</td>\n",
       "    </tr>\n",
       "    <tr>\n",
       "      <td>1</td>\n",
       "      <td>14.835608</td>\n",
       "      <td>10.959506</td>\n",
       "      <td>2.865451</td>\n",
       "      <td>00:08</td>\n",
       "    </tr>\n",
       "    <tr>\n",
       "      <td>2</td>\n",
       "      <td>13.984459</td>\n",
       "      <td>10.959097</td>\n",
       "      <td>2.865382</td>\n",
       "      <td>00:08</td>\n",
       "    </tr>\n",
       "    <tr>\n",
       "      <td>3</td>\n",
       "      <td>13.739780</td>\n",
       "      <td>10.971944</td>\n",
       "      <td>2.866275</td>\n",
       "      <td>00:08</td>\n",
       "    </tr>\n",
       "    <tr>\n",
       "      <td>4</td>\n",
       "      <td>13.563043</td>\n",
       "      <td>10.999975</td>\n",
       "      <td>2.868548</td>\n",
       "      <td>00:08</td>\n",
       "    </tr>\n",
       "    <tr>\n",
       "      <td>5</td>\n",
       "      <td>13.380735</td>\n",
       "      <td>11.033426</td>\n",
       "      <td>2.871226</td>\n",
       "      <td>00:08</td>\n",
       "    </tr>\n",
       "    <tr>\n",
       "      <td>6</td>\n",
       "      <td>13.212665</td>\n",
       "      <td>11.022073</td>\n",
       "      <td>2.870219</td>\n",
       "      <td>00:08</td>\n",
       "    </tr>\n",
       "    <tr>\n",
       "      <td>7</td>\n",
       "      <td>13.084837</td>\n",
       "      <td>10.972606</td>\n",
       "      <td>2.866025</td>\n",
       "      <td>00:08</td>\n",
       "    </tr>\n",
       "    <tr>\n",
       "      <td>8</td>\n",
       "      <td>12.991527</td>\n",
       "      <td>10.955158</td>\n",
       "      <td>2.864300</td>\n",
       "      <td>00:08</td>\n",
       "    </tr>\n",
       "    <tr>\n",
       "      <td>9</td>\n",
       "      <td>12.942304</td>\n",
       "      <td>10.951599</td>\n",
       "      <td>2.863894</td>\n",
       "      <td>00:08</td>\n",
       "    </tr>\n",
       "  </tbody>\n",
       "</table>"
      ],
      "text/plain": [
       "<IPython.core.display.HTML object>"
      ]
     },
     "metadata": {},
     "output_type": "display_data"
    }
   ],
   "source": [
    "learn.fit_one_cycle(10,0.01)"
   ]
  },
  {
   "cell_type": "code",
   "execution_count": 145,
   "metadata": {},
   "outputs": [
    {
     "data": {
      "text/plain": [
       "[10.951599, tensor(2.8639)]"
      ]
     },
     "execution_count": 145,
     "metadata": {},
     "output_type": "execute_result"
    }
   ],
   "source": [
    "learn.validate()"
   ]
  },
  {
   "cell_type": "code",
   "execution_count": 146,
   "metadata": {},
   "outputs": [
    {
     "data": {
      "image/png": "[encoded data removed]",
      "text/plain": [
       "<Figure size 432x288 with 1 Axes>"
      ]
     },
     "metadata": {
      "needs_background": "light"
     },
     "output_type": "display_data"
    }
   ],
   "source": [
    "learn.recorder.plot_losses()"
   ]
  },
  {
   "cell_type": "code",
   "execution_count": 126,
   "metadata": {},
   "outputs": [],
   "source": [
    "mdl = learn.model"
   ]
  },
  {
   "cell_type": "code",
   "execution_count": 127,
   "metadata": {},
   "outputs": [
    {
     "name": "stderr",
     "output_type": "stream",
     "text": [
      "100%|██████████| 2624/2624 [00:59<00:00, 44.34it/s]\n"
     ]
    },
    {
     "data": {
      "text/html": [
       "<div>\n",
       "<style scoped>\n",
       "    .dataframe tbody tr th:only-of-type {\n",
       "        vertical-align: middle;\n",
       "    }\n",
       "\n",
       "    .dataframe tbody tr th {\n",
       "        vertical-align: top;\n",
       "    }\n",
       "\n",
       "    .dataframe thead th {\n",
       "        text-align: right;\n",
       "    }\n",
       "</style>\n",
       "<table border=\"1\" class=\"dataframe\">\n",
       "  <thead>\n",
       "    <tr style=\"text-align: right;\">\n",
       "      <th></th>\n",
       "      <th>time_to_failure</th>\n",
       "    </tr>\n",
       "    <tr>\n",
       "      <th>seg_id</th>\n",
       "      <th></th>\n",
       "    </tr>\n",
       "  </thead>\n",
       "  <tbody>\n",
       "    <tr>\n",
       "      <th>seg_00030f</th>\n",
       "      <td>5.424631</td>\n",
       "    </tr>\n",
       "    <tr>\n",
       "      <th>seg_0012b5</th>\n",
       "      <td>5.698467</td>\n",
       "    </tr>\n",
       "    <tr>\n",
       "      <th>seg_00184e</th>\n",
       "      <td>5.698063</td>\n",
       "    </tr>\n",
       "    <tr>\n",
       "      <th>seg_003339</th>\n",
       "      <td>5.692963</td>\n",
       "    </tr>\n",
       "    <tr>\n",
       "      <th>seg_0042cc</th>\n",
       "      <td>5.623507</td>\n",
       "    </tr>\n",
       "  </tbody>\n",
       "</table>\n",
       "</div>"
      ],
      "text/plain": [
       "            time_to_failure\n",
       "seg_id                     \n",
       "seg_00030f         5.424631\n",
       "seg_0012b5         5.698467\n",
       "seg_00184e         5.698063\n",
       "seg_003339         5.692963\n",
       "seg_0042cc         5.623507"
      ]
     },
     "execution_count": 127,
     "metadata": {},
     "output_type": "execute_result"
    }
   ],
   "source": [
    "# Load submission file\n",
    "submission = pd.read_csv('data/sample_submission.csv', index_col='seg_id', dtype={\"time_to_failure\": np.float32})\n",
    "\n",
    "# Load each test data, create the feature matrix, get numeric prediction\n",
    "for i, seg_id in enumerate(tqdm(submission.index)):\n",
    "#     print(i)\n",
    "    seg = pd.read_csv('data/test/' + seg_id + '.csv')\n",
    "    x = seg['acoustic_data'].values\n",
    "    x = torch.tensor(create_X(x))[None,:,:].to(torch.device('cuda'))#.view(1,-1,:)\n",
    "    pred = mdl(x).cpu().detach().numpy()[0]\n",
    "    submission.time_to_failure[i] = pred\n",
    "#     break\n",
    "\n",
    "submission.head()\n",
    "\n",
    "# # Save\n",
    "\n",
    "# "
   ]
  },
  {
   "cell_type": "code",
   "execution_count": 128,
   "metadata": {},
   "outputs": [],
   "source": [
    "submission.to_csv('submission.csv')"
   ]
  },
  {
   "cell_type": "code",
   "execution_count": null,
   "metadata": {},
   "outputs": [],
   "source": []
  }
 ],
 "metadata": {
  "kernelspec": {
   "display_name": "env_lan",
   "language": "python",
   "name": "env_lan"
  },
  "language_info": {
   "codemirror_mode": {
    "name": "ipython",
    "version": 3
   },
   "file_extension": ".py",
   "mimetype": "text/x-python",
   "name": "python",
   "nbconvert_exporter": "python",
   "pygments_lexer": "ipython3",
   "version": "3.6.8"
  }
 },
 "nbformat": 4,
 "nbformat_minor": 2
}
