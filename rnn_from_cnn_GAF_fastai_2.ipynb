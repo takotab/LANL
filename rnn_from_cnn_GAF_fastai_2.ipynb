{
 "cells": [
  {
   "cell_type": "code",
   "execution_count": 1,
   "metadata": {},
   "outputs": [],
   "source": [
    "import numpy as np\n",
    "import pandas as pd\n",
    "import os\n",
    "from tqdm import tqdm"
   ]
  },
  {
   "cell_type": "code",
   "execution_count": 2,
   "metadata": {},
   "outputs": [
    {
     "data": {
      "text/plain": [
       "4194.3032"
      ]
     },
     "execution_count": 2,
     "metadata": {},
     "output_type": "execute_result"
    }
   ],
   "source": [
    "629145480/150/1000"
   ]
  },
  {
   "cell_type": "code",
   "execution_count": 3,
   "metadata": {},
   "outputs": [],
   "source": [
    "# %%time\n",
    "df = pd.read_csv('data/train.csv', dtype={'acoustic_data': np.int16, 'time_to_failure': np.float32},nrows = 150*1000*500)"
   ]
  },
  {
   "cell_type": "code",
   "execution_count": 4,
   "metadata": {},
   "outputs": [
    {
     "name": "stdout",
     "output_type": "stream",
     "text": [
      "(75000000, 2)\n"
     ]
    },
    {
     "data": {
      "text/html": [
       "<div>\n",
       "<style scoped>\n",
       "    .dataframe tbody tr th:only-of-type {\n",
       "        vertical-align: middle;\n",
       "    }\n",
       "\n",
       "    .dataframe tbody tr th {\n",
       "        vertical-align: top;\n",
       "    }\n",
       "\n",
       "    .dataframe thead th {\n",
       "        text-align: right;\n",
       "    }\n",
       "</style>\n",
       "<table border=\"1\" class=\"dataframe\">\n",
       "  <thead>\n",
       "    <tr style=\"text-align: right;\">\n",
       "      <th></th>\n",
       "      <th>acoustic_data</th>\n",
       "      <th>time_to_failure</th>\n",
       "    </tr>\n",
       "  </thead>\n",
       "  <tbody>\n",
       "    <tr>\n",
       "      <th>0</th>\n",
       "      <td>12</td>\n",
       "      <td>1.4691</td>\n",
       "    </tr>\n",
       "    <tr>\n",
       "      <th>1</th>\n",
       "      <td>6</td>\n",
       "      <td>1.4691</td>\n",
       "    </tr>\n",
       "    <tr>\n",
       "      <th>2</th>\n",
       "      <td>8</td>\n",
       "      <td>1.4691</td>\n",
       "    </tr>\n",
       "    <tr>\n",
       "      <th>3</th>\n",
       "      <td>5</td>\n",
       "      <td>1.4691</td>\n",
       "    </tr>\n",
       "    <tr>\n",
       "      <th>4</th>\n",
       "      <td>8</td>\n",
       "      <td>1.4691</td>\n",
       "    </tr>\n",
       "  </tbody>\n",
       "</table>\n",
       "</div>"
      ],
      "text/plain": [
       "   acoustic_data  time_to_failure\n",
       "0             12           1.4691\n",
       "1              6           1.4691\n",
       "2              8           1.4691\n",
       "3              5           1.4691\n",
       "4              8           1.4691"
      ]
     },
     "execution_count": 4,
     "metadata": {},
     "output_type": "execute_result"
    }
   ],
   "source": [
    "print(df.shape)\n",
    "df.head()"
   ]
  },
  {
   "cell_type": "code",
   "execution_count": 5,
   "metadata": {},
   "outputs": [],
   "source": [
    "import torch\n",
    "from torch.utils.data import Dataset, DataLoader\n",
    "# import cv2\n",
    "import torch.nn as nn\n",
    "import torch.nn.functional as F\n",
    "# from torchvision import transformsclass \n",
    "import torch.optim as optim"
   ]
  },
  {
   "cell_type": "code",
   "execution_count": 6,
   "metadata": {},
   "outputs": [
    {
     "name": "stdout",
     "output_type": "stream",
     "text": [
      "torch.Size([32, 150])\n"
     ]
    }
   ],
   "source": [
    "class RnnBasedLAN(nn.Module):\n",
    "    def __init__(self, D_in, H, layers=2, dropout=0.2, bidirectional=False):\n",
    "        super(RnnBasedLAN, self).__init__()\n",
    "        self.rnn = torch.nn.LSTM(\n",
    "            D_in,\n",
    "            H,\n",
    "            num_layers=layers,\n",
    "            batch_first=True,\n",
    "            dropout=dropout,\n",
    "#             bidirectional=False,\n",
    "        )\n",
    "        self.norm = nn.LayerNorm(H)\n",
    "        self.conv = nn.Conv2d(H, 1, 1)\n",
    "        \n",
    "    def forward(self, x):\n",
    "        \"\"\"x.shape = (batch_size, seq_len, features)\"\"\"\n",
    "        x, (h_n, c_n) = self.rnn(x)\n",
    "        x = self.norm(x)\n",
    "        x = x.transpose(1,2)\n",
    "        return self.conv(x[:,:,:,None]).squeeze()\n",
    "    \n",
    "def test_rnn():\n",
    "    x = torch.rand(32,150,12)\n",
    "    mdl = RnnBasedLAN(12,64)\n",
    "    print(mdl(x).shape)\n",
    "test_rnn()"
   ]
  },
  {
   "cell_type": "code",
   "execution_count": 7,
   "metadata": {},
   "outputs": [
    {
     "name": "stderr",
     "output_type": "stream",
     "text": [
      "100%|██████████| 409597/409597 [00:03<00:00, 124104.60it/s]\n"
     ]
    },
    {
     "name": "stdout",
     "output_type": "stream",
     "text": [
      "{'name': 'data/images/GAF/48465000.png', 'label': 0.42099872} 75000\n"
     ]
    },
    {
     "data": {
      "text/html": [
       "<div>\n",
       "<style scoped>\n",
       "    .dataframe tbody tr th:only-of-type {\n",
       "        vertical-align: middle;\n",
       "    }\n",
       "\n",
       "    .dataframe tbody tr th {\n",
       "        vertical-align: top;\n",
       "    }\n",
       "\n",
       "    .dataframe thead th {\n",
       "        text-align: right;\n",
       "    }\n",
       "</style>\n",
       "<table border=\"1\" class=\"dataframe\">\n",
       "  <thead>\n",
       "    <tr style=\"text-align: right;\">\n",
       "      <th></th>\n",
       "      <th>label</th>\n",
       "      <th>name</th>\n",
       "    </tr>\n",
       "  </thead>\n",
       "  <tbody>\n",
       "    <tr>\n",
       "      <th>0</th>\n",
       "      <td>0.420999</td>\n",
       "      <td>data/images/GAF/48465000.png</td>\n",
       "    </tr>\n",
       "    <tr>\n",
       "      <th>1</th>\n",
       "      <td>8.797798</td>\n",
       "      <td>data/images/GAF/16218000.png</td>\n",
       "    </tr>\n",
       "    <tr>\n",
       "      <th>2</th>\n",
       "      <td>2.319097</td>\n",
       "      <td>data/images/GAF/41159000.png</td>\n",
       "    </tr>\n",
       "    <tr>\n",
       "      <th>3</th>\n",
       "      <td>3.746998</td>\n",
       "      <td>data/images/GAF/35662000.png</td>\n",
       "    </tr>\n",
       "    <tr>\n",
       "      <th>4</th>\n",
       "      <td>12.121798</td>\n",
       "      <td>data/images/GAF/58014000.png</td>\n",
       "    </tr>\n",
       "  </tbody>\n",
       "</table>\n",
       "</div>"
      ],
      "text/plain": [
       "       label                          name\n",
       "0   0.420999  data/images/GAF/48465000.png\n",
       "1   8.797798  data/images/GAF/16218000.png\n",
       "2   2.319097  data/images/GAF/41159000.png\n",
       "3   3.746998  data/images/GAF/35662000.png\n",
       "4  12.121798  data/images/GAF/58014000.png"
      ]
     },
     "execution_count": 7,
     "metadata": {},
     "output_type": "execute_result"
    }
   ],
   "source": [
    "import glob\n",
    "lst = []\n",
    "for i, file in enumerate(tqdm(glob.glob('data/images/GAF/*.png'))):\n",
    "    idx = int(file.split('/')[-1].split('.')[0])\n",
    "    \n",
    "    if idx < df.shape[0]:\n",
    "    \n",
    "        assert type(df.iloc[idx,1]) == np.float32, idx\n",
    "\n",
    "        lst.append({\"name\":file,'label':np.float32(df.iloc[idx,1])})\n",
    "\n",
    "print(lst[0],len(lst))\n",
    "labels_df = pd.DataFrame().from_dict(lst)\n",
    "labels_df.head()\n"
   ]
  },
  {
   "cell_type": "code",
   "execution_count": 8,
   "metadata": {},
   "outputs": [],
   "source": [
    "from fastai.vision import *\n",
    "data = (ImageList.from_df(labels_df,\"\",'name') #Where to find the data? -> in path and its subfolders\n",
    "        .split_by_rand_pct(0.2)              #How to split in train/valid? -> use the folders\n",
    "        .label_from_df('label')\n",
    "#         .transform(tfms, size=224)       #Data augmentation? -> use tfms with a size of 64\n",
    "        .databunch())                   #Finally? -> use the defaults for conversion to ImageDataBunch\n",
    "\n",
    "learn = cnn_learner(data, models.resnet18, metrics=mse)"
   ]
  },
  {
   "cell_type": "code",
   "execution_count": 9,
   "metadata": {},
   "outputs": [
    {
     "name": "stdout",
     "output_type": "stream",
     "text": [
      "\n"
     ]
    }
   ],
   "source": [
    "learn.load('GAF-learner')\n",
    "print('')"
   ]
  },
  {
   "cell_type": "code",
   "execution_count": 10,
   "metadata": {},
   "outputs": [
    {
     "data": {
      "text/plain": [
       "(Image (3, 224, 224), FloatItem 2.3190973)"
      ]
     },
     "execution_count": 10,
     "metadata": {},
     "output_type": "execute_result"
    }
   ],
   "source": [
    "learn.data.train_ds[2]"
   ]
  },
  {
   "cell_type": "markdown",
   "metadata": {},
   "source": [
    "Need to add as test because default train in shuffled this way easier"
   ]
  },
  {
   "cell_type": "code",
   "execution_count": 11,
   "metadata": {},
   "outputs": [],
   "source": [
    "img_lst = ImageList.from_df(labels_df,\"\",\"name\")\n",
    "learn.data.add_test(img_lst)"
   ]
  },
  {
   "cell_type": "code",
   "execution_count": 12,
   "metadata": {},
   "outputs": [],
   "source": [
    "preds,losses = learn.get_preds(ds_type=DatasetType.Test)"
   ]
  },
  {
   "cell_type": "code",
   "execution_count": 13,
   "metadata": {},
   "outputs": [
    {
     "name": "stdout",
     "output_type": "stream",
     "text": [
      "(75000, 4)\n"
     ]
    },
    {
     "data": {
      "text/html": [
       "<div>\n",
       "<style scoped>\n",
       "    .dataframe tbody tr th:only-of-type {\n",
       "        vertical-align: middle;\n",
       "    }\n",
       "\n",
       "    .dataframe tbody tr th {\n",
       "        vertical-align: top;\n",
       "    }\n",
       "\n",
       "    .dataframe thead th {\n",
       "        text-align: right;\n",
       "    }\n",
       "</style>\n",
       "<table border=\"1\" class=\"dataframe\">\n",
       "  <thead>\n",
       "    <tr style=\"text-align: right;\">\n",
       "      <th></th>\n",
       "      <th>idx</th>\n",
       "      <th>label</th>\n",
       "      <th>name</th>\n",
       "      <th>pred</th>\n",
       "    </tr>\n",
       "  </thead>\n",
       "  <tbody>\n",
       "    <tr>\n",
       "      <th>0</th>\n",
       "      <td>48465000</td>\n",
       "      <td>0.420999</td>\n",
       "      <td>data/images/GAF/48465000.png</td>\n",
       "      <td>0.646745</td>\n",
       "    </tr>\n",
       "    <tr>\n",
       "      <th>1</th>\n",
       "      <td>16218000</td>\n",
       "      <td>8.797798</td>\n",
       "      <td>data/images/GAF/16218000.png</td>\n",
       "      <td>7.968527</td>\n",
       "    </tr>\n",
       "    <tr>\n",
       "      <th>2</th>\n",
       "      <td>41159000</td>\n",
       "      <td>2.319097</td>\n",
       "      <td>data/images/GAF/41159000.png</td>\n",
       "      <td>3.073750</td>\n",
       "    </tr>\n",
       "    <tr>\n",
       "      <th>3</th>\n",
       "      <td>35662000</td>\n",
       "      <td>3.746998</td>\n",
       "      <td>data/images/GAF/35662000.png</td>\n",
       "      <td>3.480164</td>\n",
       "    </tr>\n",
       "    <tr>\n",
       "      <th>4</th>\n",
       "      <td>58014000</td>\n",
       "      <td>12.121798</td>\n",
       "      <td>data/images/GAF/58014000.png</td>\n",
       "      <td>12.320049</td>\n",
       "    </tr>\n",
       "  </tbody>\n",
       "</table>\n",
       "</div>"
      ],
      "text/plain": [
       "        idx      label                          name       pred\n",
       "0  48465000   0.420999  data/images/GAF/48465000.png   0.646745\n",
       "1  16218000   8.797798  data/images/GAF/16218000.png   7.968527\n",
       "2  41159000   2.319097  data/images/GAF/41159000.png   3.073750\n",
       "3  35662000   3.746998  data/images/GAF/35662000.png   3.480164\n",
       "4  58014000  12.121798  data/images/GAF/58014000.png  12.320049"
      ]
     },
     "execution_count": 13,
     "metadata": {},
     "output_type": "execute_result"
    }
   ],
   "source": [
    "predictions = []\n",
    "for pred, row in zip(preds, labels_df.iterrows()):\n",
    "    row = dict(row[1])\n",
    "    row[\"pred\"] = pred.numpy()[0]\n",
    "    row['idx'] = int(row[\"name\"].split('/')[-1].split('.')[0])\n",
    "    predictions.append(row)\n",
    "pred_df = pd.DataFrame().from_dict(predictions)\n",
    "pred_df.to_csv('data/predictions_.csv')\n",
    "print(pred_df.shape)\n",
    "pred_df.head()\n"
   ]
  },
  {
   "cell_type": "code",
   "execution_count": 14,
   "metadata": {},
   "outputs": [
    {
     "name": "stdout",
     "output_type": "stream",
     "text": [
      "(75000, 5)\n"
     ]
    },
    {
     "data": {
      "text/html": [
       "<div>\n",
       "<style scoped>\n",
       "    .dataframe tbody tr th:only-of-type {\n",
       "        vertical-align: middle;\n",
       "    }\n",
       "\n",
       "    .dataframe tbody tr th {\n",
       "        vertical-align: top;\n",
       "    }\n",
       "\n",
       "    .dataframe thead th {\n",
       "        text-align: right;\n",
       "    }\n",
       "</style>\n",
       "<table border=\"1\" class=\"dataframe\">\n",
       "  <thead>\n",
       "    <tr style=\"text-align: right;\">\n",
       "      <th></th>\n",
       "      <th>Unnamed: 0</th>\n",
       "      <th>idx</th>\n",
       "      <th>label</th>\n",
       "      <th>name</th>\n",
       "      <th>pred</th>\n",
       "    </tr>\n",
       "  </thead>\n",
       "  <tbody>\n",
       "    <tr>\n",
       "      <th>0</th>\n",
       "      <td>0</td>\n",
       "      <td>48465000</td>\n",
       "      <td>0.420999</td>\n",
       "      <td>data/images/GAF/48465000.png</td>\n",
       "      <td>0.646745</td>\n",
       "    </tr>\n",
       "    <tr>\n",
       "      <th>1</th>\n",
       "      <td>1</td>\n",
       "      <td>16218000</td>\n",
       "      <td>8.797798</td>\n",
       "      <td>data/images/GAF/16218000.png</td>\n",
       "      <td>7.968527</td>\n",
       "    </tr>\n",
       "    <tr>\n",
       "      <th>2</th>\n",
       "      <td>2</td>\n",
       "      <td>41159000</td>\n",
       "      <td>2.319097</td>\n",
       "      <td>data/images/GAF/41159000.png</td>\n",
       "      <td>3.073750</td>\n",
       "    </tr>\n",
       "    <tr>\n",
       "      <th>3</th>\n",
       "      <td>3</td>\n",
       "      <td>35662000</td>\n",
       "      <td>3.746998</td>\n",
       "      <td>data/images/GAF/35662000.png</td>\n",
       "      <td>3.480164</td>\n",
       "    </tr>\n",
       "    <tr>\n",
       "      <th>4</th>\n",
       "      <td>4</td>\n",
       "      <td>58014000</td>\n",
       "      <td>12.121798</td>\n",
       "      <td>data/images/GAF/58014000.png</td>\n",
       "      <td>12.320049</td>\n",
       "    </tr>\n",
       "  </tbody>\n",
       "</table>\n",
       "</div>"
      ],
      "text/plain": [
       "   Unnamed: 0       idx      label                          name       pred\n",
       "0           0  48465000   0.420999  data/images/GAF/48465000.png   0.646745\n",
       "1           1  16218000   8.797798  data/images/GAF/16218000.png   7.968527\n",
       "2           2  41159000   2.319097  data/images/GAF/41159000.png   3.073750\n",
       "3           3  35662000   3.746998  data/images/GAF/35662000.png   3.480164\n",
       "4           4  58014000  12.121798  data/images/GAF/58014000.png  12.320049"
      ]
     },
     "execution_count": 14,
     "metadata": {},
     "output_type": "execute_result"
    }
   ],
   "source": [
    "pred_df = pd.read_csv('data/predictions_.csv')\n",
    "print(pred_df.shape)\n",
    "pred_df.head()"
   ]
  },
  {
   "cell_type": "code",
   "execution_count": 15,
   "metadata": {},
   "outputs": [
    {
     "name": "stdout",
     "output_type": "stream",
     "text": [
      "Our RNN is based on 1 features\n"
     ]
    }
   ],
   "source": [
    "def create_X(last_index, n_steps=150, step_length=1000):\n",
    "       \n",
    "    assert last_index - n_steps * step_length >= 0\n",
    "    result=[]\n",
    "    y = []\n",
    "    for i in range(n_steps):\n",
    "        _idx = i*step_length\n",
    "        \n",
    "        c_data = dict(pred_df.loc[pred_df.idx == _idx,:])\n",
    "        y.append(c_data['label'])\n",
    "        result.append(c_data['pred'])\n",
    "    assert len(result) == n_steps\n",
    "    return np.concatenate(result)[:,None].astype(np.float32), np.concatenate(y).astype(np.float32)\n",
    "\n",
    "# Query \"create_X\" to figure out the number of features\n",
    "n_features = create_X(df.shape[0] ,n_steps=10)[0].shape[1]\n",
    "print(\"Our RNN is based on %i features\"% n_features)"
   ]
  },
  {
   "cell_type": "code",
   "execution_count": null,
   "metadata": {},
   "outputs": [
    {
     "name": "stderr",
     "output_type": "stream",
     "text": [
      " 71%|███████   | 354/499 [00:58<00:24,  5.86it/s]"
     ]
    }
   ],
   "source": [
    "\n",
    "class LAN_GAF_Dataset(Dataset):\n",
    "    def __init__(\n",
    "        self,\n",
    "        last_indexs,\n",
    "        seq_len=150,\n",
    "        rand=False\n",
    "#         overlap\n",
    "    ):\n",
    "        self.last_indexs =  last_indexs\n",
    "        self.seq_len = seq_len\n",
    "        self.rand = rand\n",
    "        \n",
    "    def __len__(self):\n",
    "        return int(len(self.last_indexs)/150)-1\n",
    "        \n",
    "\n",
    "    def __getitem__(self, idx):\n",
    "        idx += 1\n",
    "        idx *= 150\n",
    "        idx = self.last_indexs[idx]\n",
    "#         print(idx)\n",
    "        x, y = create_X(last_index=idx, n_steps=self.seq_len, step_length=1000)\n",
    "        return x,y\n",
    "    \n",
    "ds = LAN_GAF_Dataset(np.array(pred_df.loc[:,'idx']))\n",
    "for i in tqdm(range(len(ds))):\n",
    "    dct = [o.shape for o in ds[i]]\n",
    "    \n",
    "    \n",
    "print(dct)\n"
   ]
  },
  {
   "cell_type": "code",
   "execution_count": 38,
   "metadata": {},
   "outputs": [
    {
     "data": {
      "text/plain": [
       "(75000, 5)"
      ]
     },
     "execution_count": 38,
     "metadata": {},
     "output_type": "execute_result"
    }
   ],
   "source": [
    "pred_df.shape"
   ]
  },
  {
   "cell_type": "code",
   "execution_count": 39,
   "metadata": {},
   "outputs": [
    {
     "name": "stdout",
     "output_type": "stream",
     "text": [
      "9450000 9600000\n"
     ]
    },
    {
     "data": {
      "text/plain": [
       "(150,)"
      ]
     },
     "execution_count": 39,
     "metadata": {},
     "output_type": "execute_result"
    }
   ],
   "source": [
    "idx = 150*1000*64\n",
    "print(idx- 150*1000,idx)\n",
    "np.arange(idx - 150*1000,idx,1000).shape"
   ]
  },
  {
   "cell_type": "code",
   "execution_count": 40,
   "metadata": {},
   "outputs": [],
   "source": [
    "# from ignite.engine import Events, create_supervised_trainer, create_supervised_evaluator\n",
    "# between train and validation\n",
    "second_earthquake = 50085877/1000\n",
    "\n",
    "train_dl = DataLoader(LAN_GAF_Dataset(np.array(pred_df.loc[second_earthquake:,'idx'])), batch_size= 64, num_workers=4)\n",
    "valid_dl = DataLoader(LAN_GAF_Dataset(np.array(pred_df.loc[:second_earthquake,'idx'])), batch_size= 32, num_workers=2)\n",
    "\n",
    "# optimizer = torch.optim.Adam(model.parameters())\n",
    "loss = torch.nn.MSELoss()\n"
   ]
  },
  {
   "cell_type": "code",
   "execution_count": 41,
   "metadata": {},
   "outputs": [],
   "source": [
    "def last_step_acc(preds, targs):\n",
    "    return torch.mean(torch.abs( preds[:,-1]-targs[:,-1]))\n"
   ]
  },
  {
   "cell_type": "code",
   "execution_count": 42,
   "metadata": {},
   "outputs": [],
   "source": [
    "from fastai.basic_data import *\n",
    "from fastai.basic_train import Learner\n",
    "from fastai.train import fit_one_cycle"
   ]
  },
  {
   "cell_type": "code",
   "execution_count": 43,
   "metadata": {},
   "outputs": [],
   "source": [
    "data_bunch = DataBunch(train_dl, valid_dl)"
   ]
  },
  {
   "cell_type": "code",
   "execution_count": 46,
   "metadata": {},
   "outputs": [],
   "source": [
    "learn = Learner(data_bunch, RnnBasedLAN(1,8), loss_func=loss, metrics = [last_step_acc])"
   ]
  },
  {
   "cell_type": "code",
   "execution_count": 50,
   "metadata": {},
   "outputs": [
    {
     "data": {
      "text/html": [
       "Total time: 00:38 <p><table border=\"1\" class=\"dataframe\">\n",
       "  <thead>\n",
       "    <tr style=\"text-align: left;\">\n",
       "      <th>epoch</th>\n",
       "      <th>train_loss</th>\n",
       "      <th>valid_loss</th>\n",
       "      <th>last_step_acc</th>\n",
       "      <th>time</th>\n",
       "    </tr>\n",
       "  </thead>\n",
       "  <tbody>\n",
       "    <tr>\n",
       "      <td>0</td>\n",
       "      <td>1.017366</td>\n",
       "      <td>0.530458</td>\n",
       "      <td>0.688184</td>\n",
       "      <td>00:38</td>\n",
       "    </tr>\n",
       "  </tbody>\n",
       "</table>"
      ],
      "text/plain": [
       "<IPython.core.display.HTML object>"
      ]
     },
     "metadata": {},
     "output_type": "display_data"
    }
   ],
   "source": [
    "learn.fit_one_cycle(1,0.01)"
   ]
  },
  {
   "cell_type": "code",
   "execution_count": 51,
   "metadata": {},
   "outputs": [
    {
     "data": {
      "text/plain": [
       "[0.5304581, tensor(0.6882)]"
      ]
     },
     "execution_count": 51,
     "metadata": {},
     "output_type": "execute_result"
    }
   ],
   "source": [
    "learn.validate()"
   ]
  },
  {
   "cell_type": "code",
   "execution_count": 52,
   "metadata": {},
   "outputs": [
    {
     "data": {
      "image/png": "[encoded data removed]",
      "text/plain": [
       "<Figure size 432x288 with 1 Axes>"
      ]
     },
     "metadata": {
      "needs_background": "light"
     },
     "output_type": "display_data"
    }
   ],
   "source": [
    "learn.recorder.plot_losses()"
   ]
  },
  {
   "cell_type": "code",
   "execution_count": 126,
   "metadata": {},
   "outputs": [],
   "source": [
    "mdl = learn.model"
   ]
  },
  {
   "cell_type": "code",
   "execution_count": 127,
   "metadata": {},
   "outputs": [
    {
     "name": "stderr",
     "output_type": "stream",
     "text": [
      "100%|██████████| 2624/2624 [00:59<00:00, 44.34it/s]\n"
     ]
    },
    {
     "data": {
      "text/html": [
       "<div>\n",
       "<style scoped>\n",
       "    .dataframe tbody tr th:only-of-type {\n",
       "        vertical-align: middle;\n",
       "    }\n",
       "\n",
       "    .dataframe tbody tr th {\n",
       "        vertical-align: top;\n",
       "    }\n",
       "\n",
       "    .dataframe thead th {\n",
       "        text-align: right;\n",
       "    }\n",
       "</style>\n",
       "<table border=\"1\" class=\"dataframe\">\n",
       "  <thead>\n",
       "    <tr style=\"text-align: right;\">\n",
       "      <th></th>\n",
       "      <th>time_to_failure</th>\n",
       "    </tr>\n",
       "    <tr>\n",
       "      <th>seg_id</th>\n",
       "      <th></th>\n",
       "    </tr>\n",
       "  </thead>\n",
       "  <tbody>\n",
       "    <tr>\n",
       "      <th>seg_00030f</th>\n",
       "      <td>5.424631</td>\n",
       "    </tr>\n",
       "    <tr>\n",
       "      <th>seg_0012b5</th>\n",
       "      <td>5.698467</td>\n",
       "    </tr>\n",
       "    <tr>\n",
       "      <th>seg_00184e</th>\n",
       "      <td>5.698063</td>\n",
       "    </tr>\n",
       "    <tr>\n",
       "      <th>seg_003339</th>\n",
       "      <td>5.692963</td>\n",
       "    </tr>\n",
       "    <tr>\n",
       "      <th>seg_0042cc</th>\n",
       "      <td>5.623507</td>\n",
       "    </tr>\n",
       "  </tbody>\n",
       "</table>\n",
       "</div>"
      ],
      "text/plain": [
       "            time_to_failure\n",
       "seg_id                     \n",
       "seg_00030f         5.424631\n",
       "seg_0012b5         5.698467\n",
       "seg_00184e         5.698063\n",
       "seg_003339         5.692963\n",
       "seg_0042cc         5.623507"
      ]
     },
     "execution_count": 127,
     "metadata": {},
     "output_type": "execute_result"
    }
   ],
   "source": [
    "# Load submission file\n",
    "submission = pd.read_csv('data/sample_submission.csv', index_col='seg_id', dtype={\"time_to_failure\": np.float32})\n",
    "\n",
    "# Load each test data, create the feature matrix, get numeric prediction\n",
    "for i, seg_id in enumerate(tqdm(submission.index)):\n",
    "#     print(i)\n",
    "    seg = pd.read_csv('data/test/' + seg_id + '.csv')\n",
    "    x = seg['acoustic_data'].values\n",
    "    \n",
    "    x, y = create_X(last_index=idx, n_steps=self.seq_len, step_length=1000)\n",
    "    x = torch.tensor(create_X(x))[None,:,:].to(torch.device('cuda'))#.view(1,-1,:)\n",
    "    pred = mdl(x).cpu().detach().numpy()[0]\n",
    "    submission.time_to_failure[i] = pred\n",
    "#     break\n",
    "\n",
    "submission.head()\n",
    "\n",
    "# # Save\n",
    "\n",
    "# "
   ]
  },
  {
   "cell_type": "code",
   "execution_count": 128,
   "metadata": {},
   "outputs": [],
   "source": [
    "submission.to_csv('submission.csv')"
   ]
  },
  {
   "cell_type": "code",
   "execution_count": null,
   "metadata": {},
   "outputs": [],
   "source": []
  }
 ],
 "metadata": {
  "kernelspec": {
   "display_name": "env_lan",
   "language": "python",
   "name": "env_lan"
  },
  "language_info": {
   "codemirror_mode": {
    "name": "ipython",
    "version": 3
   },
   "file_extension": ".py",
   "mimetype": "text/x-python",
   "name": "python",
   "nbconvert_exporter": "python",
   "pygments_lexer": "ipython3",
   "version": "3.6.8"
  }
 },
 "nbformat": 4,
 "nbformat_minor": 2
}
